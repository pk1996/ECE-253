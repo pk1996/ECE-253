{
 "cells": [
  {
   "cell_type": "markdown",
   "id": "fc477892",
   "metadata": {},
   "source": [
    "Load necessary libraries."
   ]
  },
  {
   "cell_type": "code",
   "execution_count": 10,
   "id": "3e84116d",
   "metadata": {},
   "outputs": [],
   "source": [
    "import numpy as np"
   ]
  },
  {
   "cell_type": "markdown",
   "id": "7c238348",
   "metadata": {},
   "source": [
    "Initialize matrices"
   ]
  },
  {
   "cell_type": "markdown",
   "id": "a310e7ad",
   "metadata": {},
   "source": [
    "(i) Point wise matrix multiplication to get C"
   ]
  },
  {
   "cell_type": "code",
   "execution_count": 11,
   "id": "d1e58659",
   "metadata": {},
   "outputs": [
    {
     "name": "stdout",
     "output_type": "stream",
     "text": [
      "A = \n",
      " [[ 3  9  5  1]\n",
      " [ 4 25  4  3]\n",
      " [63 13 23  9]\n",
      " [ 6 32 77  0]\n",
      " [12  8  6  1]]\n",
      "B = \n",
      " [[0 1 0 1]\n",
      " [0 1 1 0]\n",
      " [0 0 0 1]\n",
      " [1 1 0 1]\n",
      " [0 1 0 0]]\n"
     ]
    }
   ],
   "source": [
    "A = np.array([[3,9,5,1],[4,25,4,3],[63,13,23,9],[6,32,77,0],[12,8,6,1]])\n",
    "B = np.array([[0,1,0,1],[0,1,1,0],[0,0,0,1],[1,1,0,1],[0,1,0,0]])\n",
    "print(\"A = \\n\",A)\n",
    "print(\"B = \\n\",B)"
   ]
  },
  {
   "cell_type": "code",
   "execution_count": 12,
   "id": "84ee3474",
   "metadata": {},
   "outputs": [
    {
     "name": "stdout",
     "output_type": "stream",
     "text": [
      "C =  [[ 0  9  0  1]\n",
      " [ 0 25  4  0]\n",
      " [ 0  0  0  9]\n",
      " [ 6 32  0  0]\n",
      " [ 0  8  0  0]]\n"
     ]
    }
   ],
   "source": [
    "C = np.multiply(A,B)\n",
    "print(\"C = \", C)"
   ]
  },
  {
   "cell_type": "markdown",
   "id": "f003fc96",
   "metadata": {},
   "source": [
    "(ii) Inner product of $2^{nd} \\&$ $3^{rd}$ rows of C."
   ]
  },
  {
   "cell_type": "code",
   "execution_count": 13,
   "id": "2a506e0b",
   "metadata": {},
   "outputs": [
    {
     "name": "stdout",
     "output_type": "stream",
     "text": [
      "Inner product of 2nd and 3rd row of C is  0\n"
     ]
    }
   ],
   "source": [
    "ip = np.dot(C[1,:], C[2,:])\n",
    "print(\"Inner product of 2nd and 3rd row of C is \", ip)"
   ]
  },
  {
   "cell_type": "markdown",
   "id": "dfb03922",
   "metadata": {},
   "source": [
    "(iii) Maximum and minimum of C"
   ]
  },
  {
   "cell_type": "code",
   "execution_count": 14,
   "id": "f9c6a832",
   "metadata": {},
   "outputs": [
    {
     "name": "stdout",
     "output_type": "stream",
     "text": [
      "Maximum value of C is  32  at index ( 3 , 1 )\n"
     ]
    }
   ],
   "source": [
    "max = np.amax(C)\n",
    "maxIndices = np.where(C == max)\n",
    "print('Maximum value of C is ', max, ' at index (', maxIndices[0][0], ',', maxIndices[1][0], ')')"
   ]
  },
  {
   "cell_type": "code",
   "execution_count": 15,
   "id": "ff39b9c9",
   "metadata": {},
   "outputs": [
    {
     "name": "stdout",
     "output_type": "stream",
     "text": [
      "Maximum value of C is  0  at index ( 0 , 0 )\n"
     ]
    }
   ],
   "source": [
    "min = np.amin(C)\n",
    "minIndices = np.where(C == min)\n",
    "print('Maximum value of C is ', min, ' at index (', minIndices[0][0], ',', minIndices[1][0], ')')"
   ]
  }
 ],
 "metadata": {
  "kernelspec": {
   "display_name": "Python 3 (ipykernel)",
   "language": "python",
   "name": "python3"
  },
  "language_info": {
   "codemirror_mode": {
    "name": "ipython",
    "version": 3
   },
   "file_extension": ".py",
   "mimetype": "text/x-python",
   "name": "python",
   "nbconvert_exporter": "python",
   "pygments_lexer": "ipython3",
   "version": "3.9.7"
  }
 },
 "nbformat": 4,
 "nbformat_minor": 5
}
