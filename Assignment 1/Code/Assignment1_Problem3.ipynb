{
 "cells": [
  {
   "cell_type": "markdown",
   "id": "d3dce777",
   "metadata": {},
   "source": [
    "3)\\\n",
    "Import libraries"
   ]
  },
  {
   "cell_type": "code",
   "execution_count": 12,
   "id": "df7f9632",
   "metadata": {},
   "outputs": [],
   "source": [
    "import numpy as np  \n",
    "import cv2\n",
    "from matplotlib import pyplot as plt "
   ]
  },
  {
   "cell_type": "markdown",
   "id": "e2a760fb",
   "metadata": {},
   "source": [
    "Define compute norm rgb histogram() function"
   ]
  },
  {
   "cell_type": "code",
   "execution_count": 13,
   "id": "9af51935",
   "metadata": {},
   "outputs": [],
   "source": [
    "def compute_norm_rgb_histogram(I):\n",
    "    # Function to compute the histogram binning of input\n",
    "    # RGB image. Each channel is binned into a 32 length\n",
    "    # vector.\n",
    "    hist_red = np.zeros((1,32))\n",
    "    hist_green = np.zeros((1,32))\n",
    "    hist_blue = np.zeros((1,32))\n",
    "    I = I/8\n",
    "    I = I.astype(int)\n",
    "    I = I.reshape((I.shape[0]*I.shape[1], 3))\n",
    "    for i in range(I.shape[0]):\n",
    "        hist_red[0,I[i,0]] = hist_red[0,I[i,0]] + 1\n",
    "        hist_green[0,I[i,1]] = hist_green[0,I[i,1]] + 1\n",
    "        hist_blue[0,I[i,2]] = hist_blue[0,I[i,2]] + 1\n",
    "    # Normalize values\n",
    "    hist_red = hist_red/np.sum(hist_red)\n",
    "    hist_green = hist_green/np.sum(hist_green)\n",
    "    hist_blue = hist_blue/np.sum(hist_blue)\n",
    "    return np.hstack((hist_red, hist_green, hist_blue)).ravel()"
   ]
  },
  {
   "cell_type": "markdown",
   "id": "dbcaac6c",
   "metadata": {},
   "source": [
    "Main driver to load images"
   ]
  },
  {
   "cell_type": "code",
   "execution_count": 14,
   "id": "d46c83a2",
   "metadata": {},
   "outputs": [],
   "source": [
    "A = cv2.imread('/home/parth/work/UCSD/Fall 2021/ECE 253 Image Processing/Assignment 1/geisel.jpg')\n",
    "A = cv2.cvtColor(A, cv2.COLOR_BGR2RGB)\n",
    "hist = compute_norm_rgb_histogram(A)"
   ]
  },
  {
   "cell_type": "markdown",
   "id": "47f2156b",
   "metadata": {},
   "source": [
    "Plot histogram with R,G & B channels adjacent to each other"
   ]
  },
  {
   "cell_type": "code",
   "execution_count": 15,
   "id": "ef33ef72",
   "metadata": {},
   "outputs": [
    {
     "data": {
      "text/plain": [
       "<function matplotlib.pyplot.show(close=None, block=None)>"
      ]
     },
     "execution_count": 15,
     "metadata": {},
     "output_type": "execute_result"
    },
    {
     "data": {
      "image/png": "[encoded data removed]",
      "text/plain": [
       "<Figure size 432x288 with 1 Axes>"
      ]
     },
     "metadata": {
      "needs_background": "light"
     },
     "output_type": "display_data"
    }
   ],
   "source": [
    "r = np.repeat(np.array(['red']),32)\n",
    "g = np.repeat(np.array(['green']),32)\n",
    "b = np.repeat(np.array(['blue']),32)\n",
    "c = np.hstack((r,g,b)).ravel() \n",
    "plt.bar(np.arange(1,97), hist, color = c)\n",
    "plt.xlim((1,96))\n",
    "plt.xlabel('frequency')\n",
    "plt.ylabel('bin')\n",
    "plt.show"
   ]
  },
  {
   "cell_type": "markdown",
   "id": "70bc0dbb",
   "metadata": {},
   "source": [
    "Plot histogram with R,G & B channels overlapping on one another."
   ]
  },
  {
   "cell_type": "code",
   "execution_count": 16,
   "id": "5ec80829",
   "metadata": {},
   "outputs": [
    {
     "data": {
      "text/plain": [
       "<function matplotlib.pyplot.show(close=None, block=None)>"
      ]
     },
     "execution_count": 16,
     "metadata": {},
     "output_type": "execute_result"
    },
    {
     "data": {
      "image/png": "[encoded data removed]",
      "text/plain": [
       "<Figure size 432x288 with 1 Axes>"
      ]
     },
     "metadata": {
      "needs_background": "light"
     },
     "output_type": "display_data"
    }
   ],
   "source": [
    "plt.bar(np.arange(1,33), hist[0:32], color = 'r', width = 0.3)\n",
    "plt.bar(np.arange(1,33), hist[32:64], color = 'g', width = 0.3)\n",
    "plt.bar(np.arange(1,33), hist[64:96], color = 'b', width = 0.3)\n",
    "plt.xlim((1,32))\n",
    "plt.xlabel('frequency')\n",
    "plt.ylabel('bin')\n",
    "plt.show"
   ]
  }
 ],
 "metadata": {
  "kernelspec": {
   "display_name": "Python 3 (ipykernel)",
   "language": "python",
   "name": "python3"
  },
  "language_info": {
   "codemirror_mode": {
    "name": "ipython",
    "version": 3
   },
   "file_extension": ".py",
   "mimetype": "text/x-python",
   "name": "python",
   "nbconvert_exporter": "python",
   "pygments_lexer": "ipython3",
   "version": "3.9.7"
  }
 },
 "nbformat": 4,
 "nbformat_minor": 5
}
